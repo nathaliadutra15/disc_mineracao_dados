{
  "nbformat": 4,
  "nbformat_minor": 0,
  "metadata": {
    "colab": {
      "provenance": [],
      "include_colab_link": true
    },
    "kernelspec": {
      "name": "python3",
      "display_name": "Python 3"
    },
    "language_info": {
      "name": "python"
    }
  },
  "cells": [
    {
      "cell_type": "markdown",
      "metadata": {
        "id": "view-in-github",
        "colab_type": "text"
      },
      "source": [
        "<a href=\"https://colab.research.google.com/github/nathaliadutra15/disc_mineracao_dados/blob/main/WEB_SCRAPING__NATHALIA_DUTRA.ipynb\" target=\"_parent\"><img src=\"https://colab.research.google.com/assets/colab-badge.svg\" alt=\"Open In Colab\"/></a>"
      ]
    },
    {
      "cell_type": "code",
      "execution_count": 1,
      "metadata": {
        "id": "NvNm1_y_TuO2"
      },
      "outputs": [],
      "source": [
        "import requests\n",
        "from bs4 import BeautifulSoup\n",
        "import re"
      ]
    },
    {
      "cell_type": "code",
      "source": [
        "url = \"http://books.toscrape.com/catalogue/category/books/horror_31/index.html\"\n",
        "\n",
        "def infos_livros():\n",
        "    livros = []\n",
        "    response = requests.get(url)\n",
        "\n",
        "    if response.status_code == 200:\n",
        "        soup = BeautifulSoup(response.content, \"html.parser\")\n",
        "        artigos = soup.find_all(\"article\", class_=\"product_pod\")\n",
        "\n",
        "        for artigo in artigos:\n",
        "\n",
        "            titulo = artigo.h3.a[\"title\"]\n",
        "\n",
        "            preco = artigo.find(\"p\", class_=\"price_color\").text\n",
        "            preco = float(re.sub(r\"£\", \"\", preco))\n",
        "\n",
        "            livros.append({\"titulo\": titulo, \"preco\": preco})\n",
        "\n",
        "    return livros\n",
        "\n",
        "livros = infos_livros()\n",
        "\n",
        "preco_medio = sum(livro[\"preco\"] for livro in livros) / len(livros)\n",
        "\n",
        "total_livros = len(livros)\n",
        "\n",
        "livros_caros = sorted(livros, key=lambda x: x[\"preco\"], reverse=True)[:3]\n",
        "\n",
        "print(f\"Preço médio dos livros: R${preco_medio:.2f}\")\n",
        "print(f\"\\nTotal de livros disponíveis: {total_livros}\")\n",
        "print(\"\\nLivros mais caros:\")\n",
        "for livro in livros_caros:\n",
        "    print(f\"* {livro['titulo']}: R${livro['preco']:.2f}\")\n"
      ],
      "metadata": {
        "colab": {
          "base_uri": "https://localhost:8080/"
        },
        "id": "Af7CWMSNT5Er",
        "outputId": "4114a492-71fa-42f7-b995-b85b842858b8"
      },
      "execution_count": 5,
      "outputs": [
        {
          "output_type": "stream",
          "name": "stdout",
          "text": [
            "Preço médio dos livros: R$35.95\n",
            "\n",
            "Total de livros disponíveis: 17\n",
            "\n",
            "Livros mais caros:\n",
            "* The Stand: R$57.86\n",
            "* House of Leaves: R$54.89\n",
            "* 'Salem's Lot: R$49.56\n"
          ]
        }
      ]
    }
  ]
}